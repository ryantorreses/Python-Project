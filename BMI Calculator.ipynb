{
 "cells": [
  {
   "cell_type": "markdown",
   "id": "ee746a1c",
   "metadata": {},
   "source": [
    "# BMI Calculator"
   ]
  },
  {
   "cell_type": "code",
   "execution_count": 7,
   "id": "bffde1d4",
   "metadata": {},
   "outputs": [
    {
     "name": "stdout",
     "output_type": "stream",
     "text": [
      "Enter your name: Ryan\n",
      "Enter your weight in pounds: 143\n",
      "Enter your height in inches: 67\n",
      "22.394519937625308\n"
     ]
    }
   ],
   "source": [
    "name = input(\"Enter your name: \")\n",
    "weight = int(input(\"Enter your weight in pounds: \"))\n",
    "height = int(input(\"Enter your height in inches: \"))\n",
    "BMI = float(weight * 703) / (height * height)\n",
    "print(BMI)"
   ]
  },
  {
   "cell_type": "code",
   "execution_count": 8,
   "id": "265105f3",
   "metadata": {
    "scrolled": true
   },
   "outputs": [
    {
     "name": "stdout",
     "output_type": "stream",
     "text": [
      "Ryan, you are normal weight.\n"
     ]
    }
   ],
   "source": [
    "if BMI>0:\n",
    "    if(BMI<18.5):\n",
    "        print(name +\", you are underweight.\")\n",
    "    elif(BMI<=24.9):\n",
    "        print(name +\", you are normal weight.\")\n",
    "    elif(BMI<29.9):\n",
    "        print(name +\", you are overweight.\")\n",
    "    elif(BMI<34.9):\n",
    "        print(name +\", you are obese.\")\n",
    "    elif(BMI<39.9):\n",
    "        print(name +\", you are severly obese.\")\n",
    "    else:\n",
    "        print(name +\", you are morbidly obese.\")"
   ]
  }
 ],
 "metadata": {
  "kernelspec": {
   "display_name": "Python 3 (ipykernel)",
   "language": "python",
   "name": "python3"
  },
  "language_info": {
   "codemirror_mode": {
    "name": "ipython",
    "version": 3
   },
   "file_extension": ".py",
   "mimetype": "text/x-python",
   "name": "python",
   "nbconvert_exporter": "python",
   "pygments_lexer": "ipython3",
   "version": "3.9.13"
  }
 },
 "nbformat": 4,
 "nbformat_minor": 5
}
